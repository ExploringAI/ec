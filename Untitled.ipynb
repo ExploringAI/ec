{
 "cells": [
  {
   "cell_type": "code",
   "execution_count": 1,
   "id": "56c74c68-ecca-4b72-94c3-2f85550f9876",
   "metadata": {},
   "outputs": [
    {
     "name": "stderr",
     "output_type": "stream",
     "text": [
      "'git' is not recognized as an internal or external command,\n",
      "operable program or batch file.\n"
     ]
    }
   ],
   "source": [
    "!git submodule update --recursive --init"
   ]
  },
  {
   "cell_type": "code",
   "execution_count": 2,
   "id": "64f29ccb-a2d9-4d89-9d60-39b623da124b",
   "metadata": {},
   "outputs": [
    {
     "name": "stderr",
     "output_type": "stream",
     "text": [
      "'sudo' is not recognized as an internal or external command,\n",
      "operable program or batch file.\n"
     ]
    }
   ],
   "source": [
    "!sudo singularity build container.img singularity"
   ]
  },
  {
   "cell_type": "code",
   "execution_count": 3,
   "id": "f109de21-6b90-4568-92e1-a41c03268f0d",
   "metadata": {},
   "outputs": [
    {
     "name": "stderr",
     "output_type": "stream",
     "text": [
      "WARNING: Could not import torch. This is only okay when doing pypy compression.\n",
      "Failure loading recognition - only acceptable if using pypy \n",
      "WARNING: Could not import torch. This is only okay when doing pypy compression.\n",
      "Failure loading recognition - only acceptable if using pypy \n",
      "C:\\Users\\marko\\Desktop\\PythonNN\\DreamCoder\\bin\\..\\dreamcoder\\domains\\misc\\deepcoderPrimitives.py:187: SyntaxWarning: \"is not\" with a literal. Did you mean \"!=\"?\n",
      "  string = list(filter(lambda x: x is not '', string))\n",
      "C:\\Users\\marko\\Desktop\\PythonNN\\DreamCoder\\bin\\..\\dreamcoder\\domains\\misc\\RobustFillPrimitives.py:217: SyntaxWarning: \"is not\" with a literal. Did you mean \"!=\"?\n",
      "  string = list(filter(lambda x: x is not '', string))\n",
      "WARNING: Could not import torch. This is only okay when doing pypy compression.\n",
      "Failure to load pregex. This is only acceptable if using pypy\n",
      "Failure to load pregex. This is only acceptable if using pypy\n",
      "WARNING: Could not import torch. This is only okay when doing pypy compression.\n",
      "WARNING: Could not import torch. This is only okay when doing pypy compression.\n",
      "WARNING: Could not import recognition. This is only okay when doing pypy compression.\n",
      "WARNING: Could not import torch. This is only okay when doing pypy compression.\n",
      "WARNING: Could not import torch. This is only okay when doing pypy compression.\n",
      "Traceback (most recent call last):\n",
      "  File \"C:\\Users\\marko\\Desktop\\PythonNN\\DreamCoder\\bin\\list.py\", line 13, in <module>\n",
      "    args = commandlineArguments(\n",
      "  File \"C:\\Users\\marko\\Desktop\\PythonNN\\DreamCoder\\bin\\..\\dreamcoder\\dreamcoder.py\", line 728, in commandlineArguments\n",
      "    cuda = torch.cuda.is_available()\n",
      "NameError: name 'torch' is not defined\n"
     ]
    }
   ],
   "source": [
    "!python bin/list.py --help"
   ]
  },
  {
   "cell_type": "code",
   "execution_count": null,
   "id": "0ac9b172-8bbd-434e-bae5-29db098d1883",
   "metadata": {},
   "outputs": [],
   "source": []
  }
 ],
 "metadata": {
  "kernelspec": {
   "display_name": "Python 3 (ipykernel)",
   "language": "python",
   "name": "python3"
  },
  "language_info": {
   "codemirror_mode": {
    "name": "ipython",
    "version": 3
   },
   "file_extension": ".py",
   "mimetype": "text/x-python",
   "name": "python",
   "nbconvert_exporter": "python",
   "pygments_lexer": "ipython3",
   "version": "3.9.7"
  }
 },
 "nbformat": 4,
 "nbformat_minor": 5
}
